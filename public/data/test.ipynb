{
 "cells": [
  {
   "cell_type": "code",
   "execution_count": 1,
   "id": "18874300e3b4a07b",
   "metadata": {
    "collapsed": true,
    "ExecuteTime": {
     "end_time": "2023-10-08T14:29:07.634161Z",
     "start_time": "2023-10-08T14:29:07.308306Z"
    }
   },
   "outputs": [],
   "source": [
    "import json\n",
    "import math\n",
    "from json import JSONEncoder\n",
    "from pathlib import Path\n",
    "\n",
    "import netCDF4 as nc\n",
    "import numpy as np"
   ]
  },
  {
   "cell_type": "code",
   "execution_count": 2,
   "outputs": [
    {
     "name": "stdout",
     "output_type": "stream",
     "text": [
      "Reading wave data from input/wavm-inner_wave.nc...\n"
     ]
    }
   ],
   "source": [
    "\n",
    "path_input_dir = Path(\"input\")\n",
    "path_input_dir.mkdir(exist_ok=True)\n",
    "\n",
    "path_input = next(path_input_dir.glob(\"*.nc\"), None)\n",
    "print(f\"Reading wave data from {path_input}...\")\n",
    "\n",
    "data = nc.Dataset(path_input)"
   ],
   "metadata": {
    "collapsed": false,
    "ExecuteTime": {
     "end_time": "2023-10-08T14:29:08.284344Z",
     "start_time": "2023-10-08T14:29:08.252508Z"
    }
   },
   "id": "initial_id"
  },
  {
   "cell_type": "code",
   "execution_count": 3,
   "outputs": [
    {
     "data": {
      "text/plain": "<class 'netCDF4._netCDF4.Dataset'>\nroot group (NETCDF3_CLASSIC data model, file format NETCDF3):\n    institution: Deltares\n    references: http://www.deltares.nl\n    source: Deltares, Delft3D-WAVE Version 3.07.00.62434, Oct 24 2018, 14:38:32\n    history: Created on 2023-04-25T11:37:43+0800, Delft3D-WAVE\n    dimensions(sizes): mmax(287), nmax(210), time(4)\n    variables(dimensions): int32 projected_coordinate_system(), float64 x(nmax, mmax), float64 y(nmax, mmax), float64 time(time), int32 kcs(nmax, mmax), float64 hsign(time, nmax, mmax), float64 dir(time, nmax, mmax), float64 pdir(time, nmax, mmax), float64 period(time, nmax, mmax), float64 rtp(time, nmax, mmax), float64 depth(time, nmax, mmax), float64 veloc-x(time, nmax, mmax), float64 veloc-y(time, nmax, mmax), float64 transp-x(time, nmax, mmax), float64 transp-y(time, nmax, mmax), float64 dspr(time, nmax, mmax), float64 dissip(time, nmax, mmax), float64 leak(time, nmax, mmax), float64 qb(time, nmax, mmax), float64 ubot(time, nmax, mmax), float64 steepw(time, nmax, mmax), float64 wlength(time, nmax, mmax), float64 tps(time, nmax, mmax), float64 tm02(time, nmax, mmax), float64 tmm10(time, nmax, mmax), float64 dhsign(time, nmax, mmax), float64 drtm01(time, nmax, mmax), float64 setup(time, nmax, mmax), float64 fx(time, nmax, mmax), float64 fy(time, nmax, mmax), float64 windu(time, nmax, mmax), float64 windv(time, nmax, mmax)\n    groups: "
     },
     "execution_count": 3,
     "metadata": {},
     "output_type": "execute_result"
    }
   ],
   "source": [
    "data"
   ],
   "metadata": {
    "collapsed": false,
    "ExecuteTime": {
     "end_time": "2023-10-08T14:29:10.958825Z",
     "start_time": "2023-10-08T14:29:10.936180Z"
    }
   },
   "id": "9fab8601e2b6630"
  },
  {
   "cell_type": "code",
   "execution_count": 11,
   "outputs": [
    {
     "data": {
      "text/plain": "masked_array(\n  data=[[ -8.50300026,  -8.50699997,  -8.51299953, ...,  -8.45199966,\n          -8.56200027,  -9.2329998 ],\n        [ -8.50800037,  -8.51299953,  -8.51799965, ...,  -8.44499969,\n          -8.56000042,  -9.22099972],\n        [ -8.51299953,  -8.51799965,  -8.52200031, ...,  -8.43099976,\n          -8.53299999,  -9.20199966],\n        ...,\n        [  0.        ,   0.        ,   0.        , ..., -10.38000011,\n         -10.39000034, -10.39000034],\n        [  0.        ,   0.        ,   0.        , ..., -10.38000011,\n         -10.39000034, -10.39000034],\n        [  0.        ,   0.        ,   0.        , ..., -10.38000011,\n         -10.39000034, -10.39000034]],\n  mask=False,\n  fill_value=1e+20)"
     },
     "execution_count": 11,
     "metadata": {},
     "output_type": "execute_result"
    }
   ],
   "source": [
    "data[\"windu\"][0, :, :]"
   ],
   "metadata": {
    "collapsed": false,
    "ExecuteTime": {
     "end_time": "2023-10-08T14:35:02.691339Z",
     "start_time": "2023-10-08T14:35:02.667665Z"
    }
   },
   "id": "6d1b2d31f74e52ce"
  },
  {
   "cell_type": "code",
   "execution_count": null,
   "outputs": [],
   "source": [],
   "metadata": {
    "collapsed": false
   },
   "id": "8f756645edb9a1bf"
  }
 ],
 "metadata": {
  "kernelspec": {
   "display_name": "Python 3",
   "language": "python",
   "name": "python3"
  },
  "language_info": {
   "codemirror_mode": {
    "name": "ipython",
    "version": 2
   },
   "file_extension": ".py",
   "mimetype": "text/x-python",
   "name": "python",
   "nbconvert_exporter": "python",
   "pygments_lexer": "ipython2",
   "version": "2.7.6"
  }
 },
 "nbformat": 4,
 "nbformat_minor": 5
}
